{
 "cells": [
  {
   "cell_type": "markdown",
   "metadata": {},
   "source": [
    "\n",
    "Author: CFOLKERS <br>\n",
    "Ministry, Division, Branch: WLRS, GEOBC, Geospatial Services<br>\n",
    "Created Date: 2024/05/01 <br>\n",
    "Updated Date: \n",
    "Description: quick test to show how to use bcgw2gdf <br>\n"
   ]
  },
  {
   "cell_type": "code",
   "execution_count": 11,
   "metadata": {},
   "outputs": [],
   "source": [
    "from bcgw2gdf import bcgw2gdf\n",
    "import os"
   ]
  },
  {
   "cell_type": "code",
   "execution_count": 7,
   "metadata": {},
   "outputs": [],
   "source": [
    "bcgw2gdf=bcgw2gdf()"
   ]
  },
  {
   "cell_type": "code",
   "execution_count": 8,
   "metadata": {},
   "outputs": [
    {
     "name": "stdout",
     "output_type": "stream",
     "text": [
      "oracle engine created\n"
     ]
    }
   ],
   "source": [
    "#create connection \n",
    "bcgw2gdf.bcgw_connect()"
   ]
  },
  {
   "cell_type": "code",
   "execution_count": 9,
   "metadata": {},
   "outputs": [],
   "source": [
    "#specify query\n",
    "q = \"\"\"select * from WHSE_BASEMAPPING.FWA_LAKES_POLY where\n",
    "SDO_ANYINTERACT (GEOMETRY,\n",
    "\tSDO_GEOMETRY(2003, 3005, NULL,\n",
    "\t\tSDO_ELEM_INFO_ARRAY(1,1003,3),\n",
    "\t\tSDO_ORDINATE_ARRAY(1671769,518070,1914369,682898) \n",
    "\t)\n",
    ") = 'TRUE'\"\"\""
   ]
  },
  {
   "cell_type": "code",
   "execution_count": 10,
   "metadata": {},
   "outputs": [
    {
     "name": "stderr",
     "output_type": "stream",
     "text": [
      "INFO:root:spatial query returned as GeoDataFrame\n"
     ]
    }
   ],
   "source": [
    "lakes=bcgw2gdf.get_spatial_table(q)"
   ]
  },
  {
   "cell_type": "code",
   "execution_count": 15,
   "metadata": {},
   "outputs": [],
   "source": [
    "parquet_path=r'/2024/Test'\n",
    "parquet_name='lakes'\n",
    "\n",
    "# lakes.to_file(file_path, layer=layer_name, driver='FileGDB')\n",
    "lakes.to_parquet(os.path.join(parquet_path, parquet_name))"
   ]
  }
 ],
 "metadata": {
  "kernelspec": {
   "display_name": "stac_tools",
   "language": "python",
   "name": "python3"
  },
  "language_info": {
   "codemirror_mode": {
    "name": "ipython",
    "version": 3
   },
   "file_extension": ".py",
   "mimetype": "text/x-python",
   "name": "python",
   "nbconvert_exporter": "python",
   "pygments_lexer": "ipython3",
   "version": "3.11.7"
  }
 },
 "nbformat": 4,
 "nbformat_minor": 2
}
